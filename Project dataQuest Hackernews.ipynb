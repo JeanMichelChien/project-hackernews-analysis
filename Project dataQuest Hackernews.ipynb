{
 "cells": [
  {
   "attachments": {},
   "cell_type": "markdown",
   "metadata": {},
   "source": [
    "# Project: analysing Hacker News posts\n",
    "The goal of this analysis is to study posts starting with `Ask HN`and `Show HN`.\n",
    "\n",
    "The dataset is available [here](https://www.kaggle.com/hacker-news/hacker-news-posts)\n",
    "\n",
    "We will compare this two type of posts to understand:\n",
    "- Which type of post receive the most comments on average?\n",
    "- On average, when should I post a question to have the maximum answers?"
   ]
  },
  {
   "cell_type": "code",
   "execution_count": 10,
   "metadata": {},
   "outputs": [],
   "source": [
    "import csv\n",
    "opened_file = open('HN_posts_year_to_Sep_26_2016.csv', encoding=\"utf8\")\n",
    "hn = list(csv.reader(opened_file))\n",
    "\n",
    "headers = hn[0]\n",
    "hn = hn[1:]"
   ]
  },
  {
   "cell_type": "markdown",
   "metadata": {},
   "source": [
    "Now we are going to sort the posts between `ask_posts`, `show_posts`, and `other_posts`."
   ]
  },
  {
   "cell_type": "code",
   "execution_count": 11,
   "metadata": {},
   "outputs": [
    {
     "name": "stdout",
     "output_type": "stream",
     "text": [
      "9139\n",
      "10158\n",
      "273822\n"
     ]
    }
   ],
   "source": [
    "ask_posts = []\n",
    "show_posts = []\n",
    "other_posts = []\n",
    "\n",
    "for row in hn:\n",
    "    title = row[1]\n",
    "    title = title.lower()\n",
    "    if title.startswith('ask hn'):\n",
    "        ask_posts.append(row)\n",
    "    elif title.startswith('show hn'):\n",
    "        show_posts.append(row)\n",
    "    else:\n",
    "        other_posts.append(row)\n",
    "        \n",
    "print(len(ask_posts))\n",
    "print(len(show_posts))\n",
    "print(len(other_posts))"
   ]
  },
  {
   "cell_type": "markdown",
   "metadata": {},
   "source": [
    "We study the number of comments per type of posts."
   ]
  },
  {
   "cell_type": "code",
   "execution_count": 13,
   "metadata": {},
   "outputs": [
    {
     "name": "stdout",
     "output_type": "stream",
     "text": [
      "avg ask comments =  10.393\n",
      "avg show comments =  4.886\n"
     ]
    }
   ],
   "source": [
    "total_ask_comments, total_show_comments = 0, 0\n",
    "\n",
    "for askpost in ask_posts: # loop for ask posts\n",
    "    num_comments = askpost[4]\n",
    "    num_comments = int(num_comments)\n",
    "    total_ask_comments += num_comments\n",
    "    \n",
    "avg_ask_comments = total_ask_comments / len(ask_posts)\n",
    "print('avg ask comments = ', round(avg_ask_comments,3))\n",
    "\n",
    "for showpost in show_posts: # loop for show posts\n",
    "    num_comments = showpost[4]\n",
    "    num_comments = int(num_comments)\n",
    "    total_show_comments += num_comments\n",
    "    \n",
    "avg_show_comments = total_show_comments / len(show_posts)\n",
    "print('avg show comments = ', round(avg_show_comments,3))"
   ]
  },
  {
   "cell_type": "markdown",
   "metadata": {},
   "source": [
    "We can observe here that an ask post receive 14.038 comments on average, which is higher than a show post, that will receive 10.317 comments on average.\n",
    "\n",
    "We will now try to determine if there is a time period during which created asking posts will receive more comments. For this, we will:\n",
    "- Calculate the amount of ask posts created in each hour of the day, along with the number of comments received\n",
    "- Calculate the average number of comments ask posts receive by hour created"
   ]
  },
  {
   "cell_type": "code",
   "execution_count": 14,
   "metadata": {
    "scrolled": false
   },
   "outputs": [
    {
     "data": {
      "text/plain": [
       "{'02': 2996,\n",
       " '01': 2089,\n",
       " '22': 3372,\n",
       " '21': 4500,\n",
       " '19': 3954,\n",
       " '17': 5547,\n",
       " '15': 18525,\n",
       " '14': 4972,\n",
       " '13': 7245,\n",
       " '11': 2797,\n",
       " '10': 3013,\n",
       " '09': 1477,\n",
       " '07': 1585,\n",
       " '03': 2154,\n",
       " '23': 2297,\n",
       " '20': 4462,\n",
       " '16': 4466,\n",
       " '08': 2362,\n",
       " '00': 2277,\n",
       " '18': 4877,\n",
       " '12': 4234,\n",
       " '04': 2360,\n",
       " '06': 1587,\n",
       " '05': 1838}"
      ]
     },
     "execution_count": 14,
     "metadata": {},
     "output_type": "execute_result"
    }
   ],
   "source": [
    "import datetime as dt\n",
    "result_list = [] # initialize list of lists with created time and number of comments\n",
    "\n",
    "for post in ask_posts: # add created_at and num_comments as a list\n",
    "    result_list.append(\n",
    "        [post[6], int(post[4])]\n",
    "    )\n",
    "    \n",
    "counts_by_hour = {} # number of ask posts created for each hour\n",
    "comments_by_hour = {} # number of comments on ask posts created for each hour\n",
    "date_format = \"%m/%d/%Y %H:%M\"\n",
    "\n",
    "for row in result_list:\n",
    "    date, comment = row[0], row[1]\n",
    "    time = dt.datetime.strptime(date, date_format).strftime('%H') # extract hours in datetime object\n",
    "    \n",
    "    if time not in counts_by_hour:\n",
    "        counts_by_hour[time] = 1\n",
    "        comments_by_hour[time] = comment\n",
    "    else:\n",
    "        counts_by_hour[time] += 1\n",
    "        comments_by_hour[time] += comment\n",
    "        \n",
    "comments_by_hour"
   ]
  },
  {
   "cell_type": "code",
   "execution_count": 15,
   "metadata": {},
   "outputs": [
    {
     "data": {
      "text/plain": [
       "[['02', 11.138],\n",
       " ['01', 7.408],\n",
       " ['22', 8.804],\n",
       " ['21', 8.687],\n",
       " ['19', 7.163],\n",
       " ['17', 9.45],\n",
       " ['15', 28.676],\n",
       " ['14', 9.692],\n",
       " ['13', 16.318],\n",
       " ['11', 8.965],\n",
       " ['10', 10.684],\n",
       " ['09', 6.653],\n",
       " ['07', 7.013],\n",
       " ['03', 7.948],\n",
       " ['23', 6.697],\n",
       " ['20', 8.749],\n",
       " ['16', 7.713],\n",
       " ['08', 9.191],\n",
       " ['00', 7.565],\n",
       " ['18', 7.943],\n",
       " ['12', 12.38],\n",
       " ['04', 9.712],\n",
       " ['06', 6.782],\n",
       " ['05', 8.794]]"
      ]
     },
     "execution_count": 15,
     "metadata": {},
     "output_type": "execute_result"
    }
   ],
   "source": [
    "avg_by_hour = [] # avg number of comments per post for each hour\n",
    "\n",
    "for hour in comments_by_hour:\n",
    "    avg = comments_by_hour[hour] / counts_by_hour[hour] # avg of comments created per posts created\n",
    "    avg_by_hour.append([hour, round(avg,3)])\n",
    "\n",
    "avg_by_hour"
   ]
  },
  {
   "cell_type": "markdown",
   "metadata": {},
   "source": [
    "The list of lists `avg_by_hour` is not easy to read, so we are going to sort it and display the first five highest values."
   ]
  },
  {
   "cell_type": "code",
   "execution_count": 16,
   "metadata": {},
   "outputs": [
    {
     "name": "stdout",
     "output_type": "stream",
     "text": [
      "Top 5 Hours for Ask Posts Comments: \n",
      "15:00: 28.68 average comments per post\n",
      "13:00: 16.32 average comments per post\n",
      "12:00: 12.38 average comments per post\n",
      "02:00: 11.14 average comments per post\n",
      "10:00: 10.68 average comments per post\n"
     ]
    }
   ],
   "source": [
    "swap_avg_by_hour = [] \n",
    "\n",
    "for row in avg_by_hour: # swap columns to sort later by the number of comments\n",
    "    swap_avg_by_hour.append(\n",
    "        [row[1], row[0]]\n",
    "    )\n",
    "    \n",
    "sorted_swap = sorted(swap_avg_by_hour, reverse=True)\n",
    "print(\"Top 5 Hours for Ask Posts Comments: \")\n",
    "\n",
    "for average, hours in sorted_swap[:5]: # loop for the 5 highests values\n",
    "    hours = dt.datetime.strptime(hours, '%H').strftime('%H:%M') #strptime to convert into a datetime object; strftime to format\n",
    "    print('{}: {:.2f} average comments per post'.format(hours, average))\n"
   ]
  },
  {
   "cell_type": "markdown",
   "metadata": {},
   "source": [
    "# Conclusion\n",
    "We can conclude that the posts asking a question will receive more comments if they are written at 15:00, 2:00 and 20:00 (more than 20 comments on average).\n"
   ]
  },
  {
   "cell_type": "code",
   "execution_count": null,
   "metadata": {},
   "outputs": [],
   "source": []
  }
 ],
 "metadata": {
  "kernelspec": {
   "display_name": "Python 3",
   "language": "python",
   "name": "python3"
  },
  "language_info": {
   "codemirror_mode": {
    "name": "ipython",
    "version": 3
   },
   "file_extension": ".py",
   "mimetype": "text/x-python",
   "name": "python",
   "nbconvert_exporter": "python",
   "pygments_lexer": "ipython3",
   "version": "3.7.6"
  }
 },
 "nbformat": 4,
 "nbformat_minor": 4
}
